{
 "cells": [
  {
   "cell_type": "code",
   "execution_count": 1,
   "id": "519906a9-764b-4768-836c-bd49c25163ad",
   "metadata": {
    "scrolled": true
   },
   "outputs": [
    {
     "name": "stdout",
     "output_type": "stream",
     "text": [
      "Everything is working in Jupyter Notebook!\n"
     ]
    }
   ],
   "source": [
    "import face_recognition\n",
    "import cv2\n",
    "print(\"Everything is working in Jupyter Notebook!\")"
   ]
  },
  {
   "cell_type": "code",
   "execution_count": 2,
   "id": "e2fd8ab1-5424-4b70-b9c8-a4172eceec01",
   "metadata": {},
   "outputs": [],
   "source": [
    "img = cv2.imread(\"Image_Dataset/messi.jpeg\")\n",
    "rgb_img = cv2.cvtColor(img, cv2.COLOR_BGR2RGB)\n",
    "img_encoding = face_recognition.face_encodings(rgb_img)[0]"
   ]
  },
  {
   "cell_type": "code",
   "execution_count": 3,
   "id": "93dc66b6-6d82-4696-9fda-e96dd6ac67ec",
   "metadata": {},
   "outputs": [],
   "source": [
    "img2 = cv2.imread(\"Image_Dataset/messi1.jpeg\")\n",
    "rgb_img2 = cv2.cvtColor(img2, cv2.COLOR_BGR2RGB)\n",
    "img_encoding2 = face_recognition.face_encodings(rgb_img2)[0]"
   ]
  },
  {
   "cell_type": "code",
   "execution_count": 4,
   "id": "c2c21210-0c66-4c55-af9d-9a8630469f14",
   "metadata": {},
   "outputs": [
    {
     "name": "stdout",
     "output_type": "stream",
     "text": [
      "Result:  [np.True_]\n"
     ]
    }
   ],
   "source": [
    "result = face_recognition.compare_faces([img_encoding], img_encoding2)\n",
    "print(\"Result: \", result)"
   ]
  },
  {
   "cell_type": "code",
   "execution_count": 5,
   "id": "a37d0e7b-d98e-4587-bd44-dfdee6aaa32b",
   "metadata": {
    "scrolled": true
   },
   "outputs": [
    {
     "name": "stdout",
     "output_type": "stream",
     "text": [
      "14 encoding images found.\n",
      "Encoding images loaded successfully.\n"
     ]
    }
   ],
   "source": [
    "from simple_facerec import SimpleFacerec\n",
    "\n",
    "sfr = SimpleFacerec()\n",
    "sfr.load_encoding_images(\"Image_Dataset/\")"
   ]
  },
  {
   "cell_type": "code",
   "execution_count": 6,
   "id": "950b6a9e-6216-4144-b856-6cf0a76a622e",
   "metadata": {},
   "outputs": [],
   "source": [
    "cap = cv2.VideoCapture(0)  # Try changing the index if 0 doesn't work\n",
    "\n",
    "while True:\n",
    "    ret, frame = cap.read()\n",
    "    if not ret:\n",
    "        print(\"Failed to grab frame. Exiting loop.\")\n",
    "        break\n",
    "\n",
    "    face_locations, face_names = sfr.detect_known_faces(frame)\n",
    "\n",
    "    for face_loc, name in zip(face_locations, face_names):\n",
    "        y1, x2, y2, x1 = face_loc\n",
    "        cv2.putText(frame, name, (x1, y1 - 10), cv2.FONT_HERSHEY_DUPLEX, 1, (0, 0, 200), 2)\n",
    "        cv2.rectangle(frame, (x1, y1), (x2, y2), (0, 0, 200), 4)\n",
    "\n",
    "    cv2.imshow(\"Frame\", frame)\n",
    "    key = cv2.waitKey(1)\n",
    "    if key == 27:  # ESC key to exit\n",
    "        break\n",
    "\n",
    "cap.release()\n",
    "cv2.destroyAllWindows()\n"
   ]
  },
  {
   "cell_type": "code",
   "execution_count": null,
   "id": "356f21d6-054e-4b5b-8e39-b7f0d111834a",
   "metadata": {},
   "outputs": [],
   "source": []
  }
 ],
 "metadata": {
  "kernelspec": {
   "display_name": "Python (face_recognition)",
   "language": "python",
   "name": "face_recognition"
  },
  "language_info": {
   "codemirror_mode": {
    "name": "ipython",
    "version": 3
   },
   "file_extension": ".py",
   "mimetype": "text/x-python",
   "name": "python",
   "nbconvert_exporter": "python",
   "pygments_lexer": "ipython3",
   "version": "3.12.11"
  }
 },
 "nbformat": 4,
 "nbformat_minor": 5
}
